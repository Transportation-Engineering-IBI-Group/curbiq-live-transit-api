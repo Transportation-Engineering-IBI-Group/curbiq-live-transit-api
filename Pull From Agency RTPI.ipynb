{
 "cells": [
  {
   "cell_type": "markdown",
   "metadata": {},
   "source": [
    "### Install Dependencies"
   ]
  },
  {
   "cell_type": "code",
   "execution_count": null,
   "metadata": {},
   "outputs": [],
   "source": [
    "!pip install requests\n",
    "!pip install xmltodict\n",
    "!pip install pandas"
   ]
  },
  {
   "cell_type": "markdown",
   "metadata": {},
   "source": [
    "### Import libraries"
   ]
  },
  {
   "cell_type": "code",
   "execution_count": null,
   "metadata": {},
   "outputs": [],
   "source": [
    "import requests as rq\n",
    "import xmltodict\n",
    "import json\n",
    "import os\n",
    "from xml.etree import ElementTree\n",
    "import pandas as pd"
   ]
  },
  {
   "cell_type": "markdown",
   "metadata": {},
   "source": [
    "### Get All Stops for an Agency"
   ]
  },
  {
   "cell_type": "code",
   "execution_count": null,
   "metadata": {},
   "outputs": [],
   "source": [
    "agency = 'ttc'\n",
    "\n",
    "AGENCY_DIRECTORY = os.path.join(os.getcwd(),'Agencies',agency)\n",
    "if not os.path.isdir(AGENCY_DIRECTORY):\n",
    "    os.makedirs(AGENCY_DIRECTORY)\n",
    "\n",
    "# Get all routes for agency:\n",
    "\n",
    "routes_url = 'https://retro.umoiq.com/service/publicXMLFeed?command=routeList&a={AGENCY}'.format(AGENCY=agency)\n",
    "response = rq.get(routes_url)\n",
    "resp_dict = xmltodict.parse(response.content)\n",
    "route_tags = [route['@tag'] for route in resp_dict['body']['route']]\n",
    "\n",
    "stop_df = pd.DataFrame()\n",
    "\n",
    "\n",
    "for route in route_tags:\n",
    "    stops_url = 'https://retro.umoiq.com/service/publicXMLFeed?command=routeConfig&a={AGENCY}&r={ROUTE}'.format(AGENCY=agency, ROUTE=route)\n",
    "    response = rq.get(stops_url)\n",
    "    resp_dict = xmltodict.parse(response.content)\n",
    "    for i,stop in enumerate(resp_dict['body']['route']['stop']):\n",
    "        if '@stopId' not in stop:\n",
    "            resp_dict['body']['route']['stop'][i]['@stopId']='NULL'\n",
    "    stop_ids = [stop['@stopId'] for stop in resp_dict['body']['route']['stop']]\n",
    "    stop_names = [stop['@title'] for stop in resp_dict['body']['route']['stop']]\n",
    "    stop_lats = [stop['@lat'] for stop in resp_dict['body']['route']['stop']]\n",
    "    stop_lons = [stop['@lon'] for stop in resp_dict['body']['route']['stop']]\n",
    "    route_df = pd.DataFrame()\n",
    "    route_df['stop_id'], route_df['name'], route_df['lat'], route_df['lon'] = stop_ids, stop_names, stop_lats, stop_lons\n",
    "    stop_df = pd.concat([stop_df,route_df], ignore_index=True)\n",
    "\n",
    "\n",
    "stoplist = stop_df['stop_id'].to_list()\n",
    "unique_inds = [stoplist.index(stop_id) for stop_id in list(set(stoplist))]\n",
    "stop_df = stop_df.iloc[unique_inds].reset_index(drop=True)\n",
    "\n",
    "stop_df.to_csv(os.path.join(AGENCY_DIRECTORY,'stop_list.csv')) \n",
    "\n"
   ]
  },
  {
   "cell_type": "code",
   "execution_count": null,
   "metadata": {},
   "outputs": [],
   "source": [
    "stop_df.to_csv(os.path.join(AGENCY_DIRECTORY,'stop_list.csv')) "
   ]
  },
  {
   "cell_type": "markdown",
   "metadata": {},
   "source": [
    "### Pull Next Arrivals for Stop"
   ]
  },
  {
   "cell_type": "code",
   "execution_count": 67,
   "metadata": {},
   "outputs": [
    {
     "name": "stdout",
     "output_type": "stream",
     "text": [
      "{'agency': 'ttc', 'stop_id': '2264', 'routes': [{'route_id': '334', 'headsign': 'East - 334 Eglinton East towards Finch and Neilson via Kingston Rd and Morningside', 'arrival_pred_mins': []}, {'route_id': '34', 'headsign': 'East - 34a Eglinton East towards Kennedy Station', 'arrival_pred_mins': [3, 22, 44, 59]}]}\n",
      "{'agency': 'ttc', 'stop_id': '15846', 'routes': [{'route_id': '169', 'headsign': 'East - 169a Huntingwood towards Scarborough Centre via Van Horne', 'arrival_pred_mins': [2, 49, 79]}]}\n",
      "{'agency': 'ttc', 'stop_id': '6771', 'routes': [{'route_id': '66b', 'headsign': 'South - 66b Prince Edward towards Lakeshore', 'arrival_pred_mins': [3, 28, 59]}, {'route_id': '66a', 'headsign': 'South - 66a Prince Edward towards Humber Loop', 'arrival_pred_mins': [24, 43]}]}\n",
      "{'agency': 'ttc', 'stop_id': '7026', 'routes': [{'route_id': '73', 'headsign': 'North - 73c Royal York towards Claireport via Albion Rd', 'arrival_pred_mins': [0, 19, 39, 59]}, {'route_id': '352', 'headsign': 'West - 352 Lawrence West towards Pearson Airport', 'arrival_pred_mins': []}]}\n",
      "{'agency': 'ttc', 'stop_id': '13324', 'routes': [{'route_id': '131', 'headsign': 'West - 131 Nugget towards Scarborough Centre', 'arrival_pred_mins': [14, 28, 39, 52]}]}\n",
      "{'agency': 'ttc', 'stop_id': '11614', 'routes': [{'route_id': '353', 'headsign': 'West - 353 Steeles East towards York University', 'arrival_pred_mins': []}, {'route_id': '953', 'headsign': 'West - 953 Steeles East Express towards Finch Station', 'arrival_pred_mins': []}, {'route_id': '53', 'headsign': 'West - 53 Steeles East towards Finch Station', 'arrival_pred_mins': [2, 10, 15, 20, 28]}]}\n",
      "{'agency': 'ttc', 'stop_id': '707', 'routes': [{'route_id': '47', 'headsign': 'North - 47b Lansdowne towards Yorkdale Station via Caledonia and Bridgeland', 'arrival_pred_mins': [6, 28, 43]}]}\n",
      "{'agency': 'ttc', 'stop_id': '10603', 'routes': [{'route_id': '39', 'headsign': 'West - 39 Finch East towards Finch Station', 'arrival_pred_mins': [8, 15, 23, 31, 44]}, {'route_id': '339', 'headsign': 'West - 339 Finch East towards Finch Station', 'arrival_pred_mins': []}]}\n",
      "{'agency': 'ttc', 'stop_id': '5457', 'routes': [{'route_id': '51', 'headsign': 'North - 51 Leslie towards Steeles', 'arrival_pred_mins': [9, 37]}]}\n",
      "{'agency': 'ttc', 'stop_id': '4887', 'routes': [{'route_id': '59', 'headsign': 'East - 59 Maple Leaf towards Lawrence West Station via Culford and Benton', 'arrival_pred_mins': [36]}]}\n",
      "{'agency': 'ttc', 'stop_id': '9143', 'routes': [{'route_id': '35', 'headsign': 'North - 35b Jane towards Pioneer Village Station via Hullmar', 'arrival_pred_mins': []}]}\n",
      "{'agency': 'ttc', 'stop_id': '9551', 'routes': [{'route_id': '132', 'headsign': 'East - 132 Milner towards McLevin & Hupfield', 'arrival_pred_mins': [16, 40]}]}\n",
      "{'agency': 'ttc', 'stop_id': '3095', 'routes': [{'route_id': '111', 'headsign': 'South - 111 East Mall towards Kipling Station', 'arrival_pred_mins': [12, 28, 44]}]}\n",
      "{'agency': 'ttc', 'stop_id': '5910', 'routes': [{'route_id': '63', 'headsign': 'South - 63 Ossington towards Liberty Village', 'arrival_pred_mins': [3, 11, 19, 27, 35]}, {'route_id': '363', 'headsign': 'South - 363 Ossington towards Exhibition', 'arrival_pred_mins': []}]}\n",
      "{'agency': 'ttc', 'stop_id': '5662', 'routes': [{'route_id': '16', 'headsign': 'South - 16 McCowan towards Warden Station', 'arrival_pred_mins': [1, 19, 32, 45, 58]}, {'route_id': '302', 'headsign': 'South - 302 Kingston-McCowan towards Victoria Park and Kingston Rd', 'arrival_pred_mins': []}]}\n",
      "{'agency': 'ttc', 'stop_id': '10268', 'routes': [{'route_id': '34', 'headsign': 'West - 34 Eglinton East towards Eglinton Station', 'arrival_pred_mins': [13, 28, 58]}]}\n",
      "{'agency': 'ttc', 'stop_id': '136', 'routes': [{'route_id': '7', 'headsign': 'North - 7 Bathurst towards Steeles', 'arrival_pred_mins': [5, 14, 23, 36, 45]}, {'route_id': '160', 'headsign': 'North - 160 Bathurst North towards Centre Street Extra Fare Required North of Steeles', 'arrival_pred_mins': [20, 45]}, {'route_id': '307', 'headsign': 'North - 307 Bathurst towards Steeles', 'arrival_pred_mins': []}]}\n",
      "{'agency': 'ttc', 'stop_id': '14866', 'routes': [{'route_id': '41', 'headsign': 'South - 41 Keele towards Keele Station', 'arrival_pred_mins': [8, 13, 29, 40, 53]}, {'route_id': '941', 'headsign': 'South - 941 Keele Express towards Keele Station', 'arrival_pred_mins': []}, {'route_id': '341', 'headsign': 'South - 341 Keele towards Keele Station', 'arrival_pred_mins': []}]}\n",
      "{'agency': 'ttc', 'stop_id': '3683', 'routes': [{'route_id': '31', 'headsign': 'South - 31a Greenwood towards Queen', 'arrival_pred_mins': [1, 14, 27, 40, 53]}]}\n",
      "{'agency': 'ttc', 'stop_id': '206', 'routes': [{'route_id': '160', 'headsign': 'North - 160 Bathurst North towards Centre Street Extra Fare Required North of Steeles', 'arrival_pred_mins': [0, 26, 51]}]}\n",
      "{'agency': 'ttc', 'stop_id': '7162', 'routes': [{'route_id': '324', 'headsign': 'South - 324 Victoria Park towards Kingston Rd', 'arrival_pred_mins': []}, {'route_id': '85', 'headsign': 'West - 85a Sheppard East towards Don Mills Station', 'arrival_pred_mins': [2, 10, 19, 21, 31]}, {'route_id': '385', 'headsign': 'West - 385 Sheppard East towards Sheppard-Yonge Station', 'arrival_pred_mins': []}]}\n",
      "{'agency': 'ttc', 'stop_id': '8673', 'routes': [{'route_id': '112', 'headsign': 'South - 112 West Mall towards Kipling Station', 'arrival_pred_mins': [27, 36, 51]}]}\n",
      "{'agency': 'ttc', 'stop_id': '4643', 'routes': [{'route_id': '960', 'headsign': 'East - 960 Steeles West Express towards Finch Station via Pioneer Village Station', 'arrival_pred_mins': [14, 23, 32, 41, 50]}, {'route_id': '37', 'headsign': 'South - 37 Islington towards Islington Station', 'arrival_pred_mins': [17, 42]}, {'route_id': '60', 'headsign': 'East - 60 Steeles West towards Pioneer Village Station', 'arrival_pred_mins': [10, 25, 40, 55, 70]}, {'route_id': '937', 'headsign': 'South - 937 Islington Express towards Islington Station', 'arrival_pred_mins': []}]}\n",
      "{'agency': 'ttc', 'stop_id': '7569', 'routes': [{'route_id': '996', 'headsign': 'West - 996 Wilson Express towards Humber College', 'arrival_pred_mins': [9, 17, 32, 43, 55]}, {'route_id': '96b', 'headsign': 'West - 96b Wilson towards Humberline & Albion', 'arrival_pred_mins': [24, 43]}, {'route_id': '96a', 'headsign': 'West - 96a Wilson towards Carrier Dr via Kipling and John Garland', 'arrival_pred_mins': [17, 40]}, {'route_id': '396', 'headsign': 'West - 396 Wilson towards Martin Grove and Steeles', 'arrival_pred_mins': []}]}\n",
      "{'agency': 'ttc', 'stop_id': '15462', 'routes': [{'route_id': '504', 'headsign': 'East - 504a King towards Distillery', 'arrival_pred_mins': [0, 2, 9, 14, 23]}]}\n",
      "{'agency': 'ttc', 'stop_id': '4571', 'routes': [{'route_id': '504', 'headsign': 'West - 504 King Replacement Bus towards Dundas West Station via King', 'arrival_pred_mins': [4, 9, 10, 17, 25]}, {'route_id': '304', 'headsign': 'West - 304q King Replacement Bus towards Roncesvalles via Dufferin and Queen', 'arrival_pred_mins': []}]}\n",
      "{'agency': 'ttc', 'stop_id': '7326', 'routes': [{'route_id': '75', 'headsign': 'North - 75 Sherbourne towards South Drive', 'arrival_pred_mins': [1, 15, 22, 37, 44]}]}\n",
      "{'agency': 'ttc', 'stop_id': '6590', 'routes': [{'route_id': '130', 'headsign': 'South - 130a Middlefield towards Scarborough Centre', 'arrival_pred_mins': [17, 38, 59]}]}\n",
      "{'agency': 'ttc', 'stop_id': '1', 'routes': [{'route_id': '107', 'headsign': 'North - 107b York University Heights  towards Steeles via Alness', 'arrival_pred_mins': [16, 48]}]}\n",
      "{'agency': 'ttc', 'stop_id': '7700', 'routes': [{'route_id': '395', 'headsign': 'West - 395 York Mills towards York Mills Station', 'arrival_pred_mins': []}, {'route_id': '995', 'headsign': 'West - 995 York Mills Express towards York Mills Station', 'arrival_pred_mins': [0, 15, 31, 47]}, {'route_id': '95', 'headsign': 'West - 95 York Mills towards York Mills Station', 'arrival_pred_mins': [14, 32, 50]}, {'route_id': '133', 'headsign': 'South - 133 Neilson towards Scarborough Centre via Centenary', 'arrival_pred_mins': [4, 15, 28, 39]}, {'route_id': '38', 'headsign': 'West - 38 Highland Creek towards Scarborough Centre', 'arrival_pred_mins': [3, 15, 28, 40, 52]}]}\n",
      "{'agency': 'ttc', 'stop_id': '1888', 'routes': [{'route_id': '23', 'headsign': 'North - 23 Dawes towards St Clair', 'arrival_pred_mins': [1, 17, 28, 39, 51]}]}\n"
     ]
    },
    {
     "name": "stdout",
     "output_type": "stream",
     "text": [
      "{'agency': 'ttc', 'stop_id': '1046', 'routes': [{'route_id': '38', 'headsign': 'East - 38a Highland Creek towards Rouge Hill GO Station', 'arrival_pred_mins': [8, 20, 32, 44, 56]}, {'route_id': '95', 'headsign': 'East - 95a York Mills towards Port Union', 'arrival_pred_mins': [19, 49]}, {'route_id': '395', 'headsign': 'East - 395 York Mills towards Meadowvale and Sheppard', 'arrival_pred_mins': []}, {'route_id': '133', 'headsign': 'North - 133 Neilson towards Morningside Heights via Centenary', 'arrival_pred_mins': [7, 18, 29, 40, 51]}, {'route_id': '995', 'headsign': 'East - 995 York Mills Express towards U of T Scarborough', 'arrival_pred_mins': [5, 25, 48]}]}\n",
      "{'agency': 'ttc', 'stop_id': '11272', 'routes': [{'route_id': '927', 'headsign': 'North - 927b Highway 27 Express towards Steeles via Humber College', 'arrival_pred_mins': [0, 8, 14, 28, 36]}, {'route_id': '96b', 'headsign': 'West - 96b Wilson towards Humberline & Albion', 'arrival_pred_mins': [5, 30, 49]}, {'route_id': '96a', 'headsign': 'West - 96a Wilson towards Carrier Dr via Kipling and John Garland', 'arrival_pred_mins': [7, 25, 47]}, {'route_id': '336', 'headsign': 'West - 336 Finch West towards Woodbine Race Track', 'arrival_pred_mins': []}]}\n",
      "{'agency': 'ttc', 'stop_id': '3748', 'routes': [{'route_id': '161', 'headsign': 'West - 161 Rogers Rd towards Jane', 'arrival_pred_mins': [13, 33, 47]}]}\n",
      "{'agency': 'ttc', 'stop_id': '9040', 'routes': [{'route_id': '320', 'headsign': 'North - 320 Yonge towards Steeles via Finch Station', 'arrival_pred_mins': []}, {'route_id': '97', 'headsign': 'North - 97b Yonge towards Steeles via Yonge Blvd', 'arrival_pred_mins': []}]}\n",
      "{'agency': 'ttc', 'stop_id': '4598', 'routes': [{'route_id': '384', 'headsign': 'West - 384 Sheppard West towards Weston Rd', 'arrival_pred_mins': []}, {'route_id': '101', 'headsign': 'West - 101 Downsview Park towards Downsview Park', 'arrival_pred_mins': [3, 21, 38, 58]}, {'route_id': '106', 'headsign': 'West - 106 Sentinel towards  Pioneer Village Station', 'arrival_pred_mins': [10, 26, 42, 58]}, {'route_id': '84', 'headsign': 'West - 84a Sheppard West towards Weston Rd', 'arrival_pred_mins': [5, 18, 23, 31, 39]}, {'route_id': '107a', 'headsign': 'North - 107a York University Heights  towards Steeles via Keele', 'arrival_pred_mins': [24]}, {'route_id': '107b', 'headsign': 'North - 107b York University Heights  towards Steeles via Alness', 'arrival_pred_mins': [7, 39]}, {'route_id': '108b', 'headsign': 'West - 108b Driftwood towards Pioneer Village Station via Arleta', 'arrival_pred_mins': [3, 23, 43]}, {'route_id': '108a', 'headsign': 'West - 108a Driftwood towards Pioneer Village Station via Grandravine', 'arrival_pred_mins': [12, 32, 52]}]}\n",
      "{'agency': 'ttc', 'stop_id': '11992', 'routes': [{'route_id': '363', 'headsign': 'South - 363 Ossington towards Exhibition', 'arrival_pred_mins': []}, {'route_id': '504', 'headsign': 'East - 504 King Replacement Bus towards Shaw', 'arrival_pred_mins': [9, 10, 11, 21, 26]}]}\n",
      "{'agency': 'ttc', 'stop_id': '1332', 'routes': [{'route_id': '20', 'headsign': 'East - 20 Cliffside towards Kennedy Station', 'arrival_pred_mins': [9, 23, 36, 51]}]}\n",
      "{'agency': 'ttc', 'stop_id': '10605', 'routes': [{'route_id': '395', 'headsign': 'West - 395 York Mills towards York Mills Station', 'arrival_pred_mins': []}, {'route_id': '95c', 'headsign': 'West - 95c York Mills towards York Mills Station', 'arrival_pred_mins': [7, 26, 44]}, {'route_id': '95', 'headsign': 'West - 95 York Mills towards York Mills Station', 'arrival_pred_mins': [10, 28, 47]}]}\n",
      "{'agency': 'ttc', 'stop_id': '3197', 'routes': [{'route_id': '93', 'headsign': 'South - 93 Parkview Hills towards Woodbine Station', 'arrival_pred_mins': [15, 40]}, {'route_id': '91', 'headsign': 'South - 91 Woodbine towards Woodbine Station', 'arrival_pred_mins': [24, 50]}]}\n",
      "{'agency': 'ttc', 'stop_id': '15619', 'routes': [{'route_id': '106', 'headsign': 'East - 106 Sentinel towards Sheppard West Station', 'arrival_pred_mins': [11, 24, 42, 58]}]}\n",
      "{'agency': 'ttc', 'stop_id': '14957', 'routes': [{'route_id': '51', 'headsign': 'South - 51 Leslie towards Eglinton Station', 'arrival_pred_mins': [13, 36]}, {'route_id': '54', 'headsign': 'West - 54 Lawrence East towards Eglinton Station', 'arrival_pred_mins': [4, 8, 16, 24, 29]}]}\n",
      "{'agency': 'ttc', 'stop_id': '12054', 'routes': [{'route_id': '134', 'headsign': 'North - 134d Progress towards Finch via Centennial College and Crow Trail', 'arrival_pred_mins': [10, 25, 41, 57]}]}\n",
      "{'agency': 'ttc', 'stop_id': '4821', 'routes': [{'route_id': '21', 'headsign': 'North - 21b Brimley towards Steeles Ave E', 'arrival_pred_mins': [6, 18, 33, 48]}]}\n",
      "{'agency': 'ttc', 'stop_id': '10832', 'routes': [{'route_id': '42', 'headsign': 'West - 42 Cummer towards Finch Station', 'arrival_pred_mins': [1, 14, 28, 42]}]}\n",
      "{'agency': 'ttc', 'stop_id': '14610', 'routes': [{'route_id': '71', 'headsign': 'North - 71 Runnymede towards Industry St', 'arrival_pred_mins': [0, 9, 27, 37, 47]}, {'route_id': '171', 'headsign': 'South - 171 Mount Dennis towards Industry St', 'arrival_pred_mins': [9, 27, 47]}]}\n",
      "{'agency': 'ttc', 'stop_id': '9355', 'routes': [{'route_id': '53', 'headsign': 'West - 53 Steeles East towards Finch Station', 'arrival_pred_mins': [4, 6, 11, 22, 25]}, {'route_id': '353', 'headsign': 'West - 353 Steeles East towards York University', 'arrival_pred_mins': []}, {'route_id': '953', 'headsign': 'West - 953 Steeles East Express towards Finch Station', 'arrival_pred_mins': []}]}\n",
      "{'agency': 'ttc', 'stop_id': '8465', 'routes': [{'route_id': '924', 'headsign': 'South - 924 Victoria Park Express towards Victoria Park Station', 'arrival_pred_mins': []}, {'route_id': '24', 'headsign': 'South - 24 Victoria Park towards Victoria Park Station', 'arrival_pred_mins': [4, 10, 24, 43, 52]}]}\n",
      "{'agency': 'ttc', 'stop_id': '9304', 'routes': [{'route_id': '927', 'headsign': 'South - 927f Highway 27 Express towards Kipling Station via Humber College and Attwell', 'arrival_pred_mins': []}]}\n",
      "{'agency': 'ttc', 'stop_id': '14540', 'routes': [{'route_id': '63', 'headsign': 'North - 63a Ossington towards Eglinton West Station', 'arrival_pred_mins': [12, 16, 24, 28, 44]}]}\n",
      "{'agency': 'ttc', 'stop_id': '11552', 'routes': [{'route_id': '339', 'headsign': 'West - 339 Finch East towards Finch Station', 'arrival_pred_mins': []}, {'route_id': '134', 'headsign': 'North - 134b Progress towards McNicoll via Tapscott', 'arrival_pred_mins': []}, {'route_id': '134', 'headsign': 'South - 134 Progress towards Scarborough Centre via Centennial College', 'arrival_pred_mins': [29, 45]}]}\n",
      "{'agency': 'ttc', 'stop_id': '2890', 'routes': [{'route_id': '42', 'headsign': 'West - 42 Cummer towards Finch Station', 'arrival_pred_mins': [13, 26, 40, 54]}]}\n",
      "{'agency': 'ttc', 'stop_id': '7807', 'routes': [{'route_id': '94', 'headsign': 'West - 94a Wellesley towards Ossington Station', 'arrival_pred_mins': [19, 37, 57]}]}\n",
      "{'agency': 'ttc', 'stop_id': '5014', 'routes': [{'route_id': '112c', 'headsign': 'North - 112c West Mall towards Disco Rd', 'arrival_pred_mins': [5, 29, 53]}, {'route_id': '112b', 'headsign': 'North - 112b West Mall towards Renforth Station', 'arrival_pred_mins': [17]}, {'route_id': '123', 'headsign': 'South - 123f Sherway towards Sherway via West Mall', 'arrival_pred_mins': []}]}\n",
      "{'agency': 'ttc', 'stop_id': '6206', 'routes': [{'route_id': '52', 'headsign': 'West - 52g Lawrence West towards Martin Grove via The Westway', 'arrival_pred_mins': [3, 23, 41]}]}\n",
      "{'agency': 'ttc', 'stop_id': '4242', 'routes': [{'route_id': '102', 'headsign': 'South - 102 Markham Rd towards Warden Station', 'arrival_pred_mins': [6, 7, 16, 24, 37]}, {'route_id': '102', 'headsign': 'South - 102 Markham Rd towards Warden Station - Extra Fare Required North of Steeles', 'arrival_pred_mins': [25]}, {'route_id': '12', 'headsign': 'West - 12 Kingston Rd towards Victoria Park Station', 'arrival_pred_mins': []}]}\n",
      "{'agency': 'ttc', 'stop_id': '6794', 'routes': [{'route_id': '66b', 'headsign': 'South - 66b Prince Edward towards Lakeshore', 'arrival_pred_mins': [4, 28]}, {'route_id': '66a', 'headsign': 'South - 66a Prince Edward towards Humber Loop', 'arrival_pred_mins': [25, 44]}]}\n",
      "{'agency': 'ttc', 'stop_id': '6341', 'routes': [{'route_id': '115', 'headsign': 'West - 115 Silver Hills towards York Mills Station', 'arrival_pred_mins': [14, 34, 54]}]}\n"
     ]
    },
    {
     "name": "stdout",
     "output_type": "stream",
     "text": [
      "{'agency': 'ttc', 'stop_id': '10150', 'routes': [{'route_id': '21', 'headsign': 'South - 21b Brimley towards Scarborough Centre Station', 'arrival_pred_mins': [5, 20, 32, 47]}]}\n",
      "{'agency': 'ttc', 'stop_id': '4100', 'routes': [{'route_id': '43', 'headsign': 'North - 43a Kennedy towards Steeles', 'arrival_pred_mins': [0, 9, 15, 25, 35]}, {'route_id': '343', 'headsign': 'North - 343 Kennedy towards Steeles', 'arrival_pred_mins': []}]}\n",
      "{'agency': 'ttc', 'stop_id': '2361', 'routes': [{'route_id': '332', 'headsign': 'West - 332 Eglinton West towards Renforth and Pearson Airport', 'arrival_pred_mins': []}, {'route_id': '32c', 'headsign': 'West - 32c Eglinton West towards Jane & Lawrence via Trethewey', 'arrival_pred_mins': [1, 11, 23, 35, 47]}, {'route_id': '32a', 'headsign': 'West - 32a Eglinton West towards Renforth Station', 'arrival_pred_mins': [8, 20, 32, 44, 56]}]}\n",
      "{'agency': 'ttc', 'stop_id': '6753', 'routes': [{'route_id': '167', 'headsign': 'South - 167a Pharmacy North towards Don Mills Station via Consumers Rd', 'arrival_pred_mins': [24, 54]}]}\n",
      "{'agency': 'ttc', 'stop_id': '6328', 'routes': [{'route_id': '67', 'headsign': 'North - 67b Pharmacy towards Eglinton', 'arrival_pred_mins': []}]}\n",
      "{'agency': 'ttc', 'stop_id': '1417', 'routes': [{'route_id': '8', 'headsign': 'North - 8 Broadview towards Coxwell', 'arrival_pred_mins': [4, 36]}]}\n",
      "{'agency': 'ttc', 'stop_id': '5289', 'routes': [{'route_id': '354', 'headsign': 'West - 354 Lawrence East towards Eglinton Station', 'arrival_pred_mins': []}, {'route_id': '954', 'headsign': 'West - 954 Lawrence East Express towards Lawrence East Rt Station', 'arrival_pred_mins': []}, {'route_id': '54', 'headsign': 'West - 54 Lawrence East towards Eglinton Station', 'arrival_pred_mins': [8, 13, 22, 27, 36]}]}\n",
      "{'agency': 'ttc', 'stop_id': '5145', 'routes': [{'route_id': '56', 'headsign': 'South - 56 Leaside towards Donlands Station', 'arrival_pred_mins': [10, 32, 58]}]}\n",
      "{'agency': 'ttc', 'stop_id': '15896', 'routes': [{'route_id': '905', 'headsign': 'East - 905 Eglinton East Express towards Conlins', 'arrival_pred_mins': [1, 8, 16, 23, 31]}, {'route_id': '905', 'headsign': 'East - 905 Eglinton East Express towards Conlins via U of T Scarborough', 'arrival_pred_mins': [4]}, {'route_id': '300', 'headsign': 'West - 300b Bloor-Danforth towards West Mall', 'arrival_pred_mins': []}, {'route_id': '116', 'headsign': 'East - 116 Morningside towards Finch', 'arrival_pred_mins': [12, 18, 29, 40, 45]}, {'route_id': '334', 'headsign': 'East - 334 Eglinton East towards Finch and Neilson via Kingston Rd and Morningside', 'arrival_pred_mins': []}, {'route_id': '86a', 'headsign': 'East - 86a Scarborough towards Toronto Zoo', 'arrival_pred_mins': [12, 26, 36, 51]}, {'route_id': '86d', 'headsign': 'East - 86d Scarborough towards Beechgrove via Lawrence', 'arrival_pred_mins': [24, 51]}, {'route_id': '12', 'headsign': 'West - 12a Kingston Rd towards Victoria Park Station via Brimley and Variety Village', 'arrival_pred_mins': [22, 47]}]}\n",
      "{'agency': 'ttc', 'stop_id': '6390', 'routes': [{'route_id': '109', 'headsign': 'South - 109b Ranee towards Eglinton West Station  via Flemington and Marlee', 'arrival_pred_mins': [22]}]}\n",
      "{'agency': 'ttc', 'stop_id': '6869', 'routes': [{'route_id': '80', 'headsign': 'West - 80 Queensway towards Sherway', 'arrival_pred_mins': [5, 33]}]}\n",
      "{'agency': 'ttc', 'stop_id': '6689', 'routes': [{'route_id': '67', 'headsign': 'North - 67a Pharmacy towards Ellesmere', 'arrival_pred_mins': [3, 15, 30, 50]}]}\n",
      "{'agency': 'ttc', 'stop_id': '2596', 'routes': [{'route_id': '336', 'headsign': 'West - 336 Finch West towards Woodbine Race Track', 'arrival_pred_mins': []}, {'route_id': '36', 'headsign': 'West - 36b Finch West towards Humberwood', 'arrival_pred_mins': [0, 6, 9, 13, 15]}]}\n",
      "{'agency': 'ttc', 'stop_id': '7566', 'routes': [{'route_id': '91', 'headsign': 'South - 91 Woodbine towards Woodbine Station', 'arrival_pred_mins': [23, 48]}]}\n",
      "{'agency': 'ttc', 'stop_id': '6984', 'routes': [{'route_id': '315', 'headsign': \"West - 315 Evans-Brown'S Line towards Long Branch via Sherway\", 'arrival_pred_mins': []}, {'route_id': '76a', 'headsign': 'South - 76a Royal York South towards Lake Shore', 'arrival_pred_mins': [4, 19, 32, 45, 58]}, {'route_id': '76b', 'headsign': 'South - 76b Royal York South towards Queensway and Grand Avenue', 'arrival_pred_mins': [4, 34]}, {'route_id': '15', 'headsign': 'West - 15 Evans towards Sherway', 'arrival_pred_mins': [23, 45]}]}\n",
      "{'agency': 'ttc', 'stop_id': '1423', 'routes': [{'route_id': '8', 'headsign': 'South - 8 Broadview towards Broadview Station', 'arrival_pred_mins': [17, 47]}]}\n"
     ]
    },
    {
     "ename": "KeyboardInterrupt",
     "evalue": "",
     "output_type": "error",
     "traceback": [
      "\u001b[1;31m---------------------------------------------------------------------------\u001b[0m",
      "\u001b[1;31mKeyboardInterrupt\u001b[0m                         Traceback (most recent call last)",
      "\u001b[1;32m~\\AppData\\Local\\Temp\\ipykernel_23364\\2848542882.py\u001b[0m in \u001b[0;36m<module>\u001b[1;34m\u001b[0m\n\u001b[0;32m      8\u001b[0m \u001b[1;33m\u001b[0m\u001b[0m\n\u001b[0;32m      9\u001b[0m     \u001b[0mstop_url\u001b[0m \u001b[1;33m=\u001b[0m \u001b[1;34m'https://retro.umoiq.com/service/publicXMLFeed?command=predictions&a={AGENCY}&stopId={STOP}'\u001b[0m\u001b[1;33m.\u001b[0m\u001b[0mformat\u001b[0m\u001b[1;33m(\u001b[0m\u001b[0mAGENCY\u001b[0m\u001b[1;33m=\u001b[0m\u001b[0magency\u001b[0m\u001b[1;33m,\u001b[0m\u001b[0mSTOP\u001b[0m\u001b[1;33m=\u001b[0m\u001b[0mstop_id\u001b[0m\u001b[1;33m)\u001b[0m\u001b[1;33m\u001b[0m\u001b[1;33m\u001b[0m\u001b[0m\n\u001b[1;32m---> 10\u001b[1;33m     \u001b[0mresponse\u001b[0m \u001b[1;33m=\u001b[0m \u001b[0mrq\u001b[0m\u001b[1;33m.\u001b[0m\u001b[0mget\u001b[0m\u001b[1;33m(\u001b[0m\u001b[0mstop_url\u001b[0m\u001b[1;33m)\u001b[0m\u001b[1;33m\u001b[0m\u001b[1;33m\u001b[0m\u001b[0m\n\u001b[0m\u001b[0;32m     11\u001b[0m     \u001b[0mresp_dict\u001b[0m \u001b[1;33m=\u001b[0m \u001b[0mxmltodict\u001b[0m\u001b[1;33m.\u001b[0m\u001b[0mparse\u001b[0m\u001b[1;33m(\u001b[0m\u001b[0mresponse\u001b[0m\u001b[1;33m.\u001b[0m\u001b[0mcontent\u001b[0m\u001b[1;33m)\u001b[0m\u001b[1;33m\u001b[0m\u001b[1;33m\u001b[0m\u001b[0m\n\u001b[0;32m     12\u001b[0m \u001b[1;33m\u001b[0m\u001b[0m\n",
      "\u001b[1;32mC:\\IBI\\repos\\curbiq_modules\\curbmods\\lib\\site-packages\\requests\\api.py\u001b[0m in \u001b[0;36mget\u001b[1;34m(url, params, **kwargs)\u001b[0m\n\u001b[0;32m     73\u001b[0m     \"\"\"\n\u001b[0;32m     74\u001b[0m \u001b[1;33m\u001b[0m\u001b[0m\n\u001b[1;32m---> 75\u001b[1;33m     \u001b[1;32mreturn\u001b[0m \u001b[0mrequest\u001b[0m\u001b[1;33m(\u001b[0m\u001b[1;34m'get'\u001b[0m\u001b[1;33m,\u001b[0m \u001b[0murl\u001b[0m\u001b[1;33m,\u001b[0m \u001b[0mparams\u001b[0m\u001b[1;33m=\u001b[0m\u001b[0mparams\u001b[0m\u001b[1;33m,\u001b[0m \u001b[1;33m**\u001b[0m\u001b[0mkwargs\u001b[0m\u001b[1;33m)\u001b[0m\u001b[1;33m\u001b[0m\u001b[1;33m\u001b[0m\u001b[0m\n\u001b[0m\u001b[0;32m     76\u001b[0m \u001b[1;33m\u001b[0m\u001b[0m\n\u001b[0;32m     77\u001b[0m \u001b[1;33m\u001b[0m\u001b[0m\n",
      "\u001b[1;32mC:\\IBI\\repos\\curbiq_modules\\curbmods\\lib\\site-packages\\requests\\api.py\u001b[0m in \u001b[0;36mrequest\u001b[1;34m(method, url, **kwargs)\u001b[0m\n\u001b[0;32m     59\u001b[0m     \u001b[1;31m# cases, and look like a memory leak in others.\u001b[0m\u001b[1;33m\u001b[0m\u001b[1;33m\u001b[0m\u001b[1;33m\u001b[0m\u001b[0m\n\u001b[0;32m     60\u001b[0m     \u001b[1;32mwith\u001b[0m \u001b[0msessions\u001b[0m\u001b[1;33m.\u001b[0m\u001b[0mSession\u001b[0m\u001b[1;33m(\u001b[0m\u001b[1;33m)\u001b[0m \u001b[1;32mas\u001b[0m \u001b[0msession\u001b[0m\u001b[1;33m:\u001b[0m\u001b[1;33m\u001b[0m\u001b[1;33m\u001b[0m\u001b[0m\n\u001b[1;32m---> 61\u001b[1;33m         \u001b[1;32mreturn\u001b[0m \u001b[0msession\u001b[0m\u001b[1;33m.\u001b[0m\u001b[0mrequest\u001b[0m\u001b[1;33m(\u001b[0m\u001b[0mmethod\u001b[0m\u001b[1;33m=\u001b[0m\u001b[0mmethod\u001b[0m\u001b[1;33m,\u001b[0m \u001b[0murl\u001b[0m\u001b[1;33m=\u001b[0m\u001b[0murl\u001b[0m\u001b[1;33m,\u001b[0m \u001b[1;33m**\u001b[0m\u001b[0mkwargs\u001b[0m\u001b[1;33m)\u001b[0m\u001b[1;33m\u001b[0m\u001b[1;33m\u001b[0m\u001b[0m\n\u001b[0m\u001b[0;32m     62\u001b[0m \u001b[1;33m\u001b[0m\u001b[0m\n\u001b[0;32m     63\u001b[0m \u001b[1;33m\u001b[0m\u001b[0m\n",
      "\u001b[1;32mC:\\IBI\\repos\\curbiq_modules\\curbmods\\lib\\site-packages\\requests\\sessions.py\u001b[0m in \u001b[0;36mrequest\u001b[1;34m(self, method, url, params, data, headers, cookies, files, auth, timeout, allow_redirects, proxies, hooks, stream, verify, cert, json)\u001b[0m\n\u001b[0;32m    527\u001b[0m         }\n\u001b[0;32m    528\u001b[0m         \u001b[0msend_kwargs\u001b[0m\u001b[1;33m.\u001b[0m\u001b[0mupdate\u001b[0m\u001b[1;33m(\u001b[0m\u001b[0msettings\u001b[0m\u001b[1;33m)\u001b[0m\u001b[1;33m\u001b[0m\u001b[1;33m\u001b[0m\u001b[0m\n\u001b[1;32m--> 529\u001b[1;33m         \u001b[0mresp\u001b[0m \u001b[1;33m=\u001b[0m \u001b[0mself\u001b[0m\u001b[1;33m.\u001b[0m\u001b[0msend\u001b[0m\u001b[1;33m(\u001b[0m\u001b[0mprep\u001b[0m\u001b[1;33m,\u001b[0m \u001b[1;33m**\u001b[0m\u001b[0msend_kwargs\u001b[0m\u001b[1;33m)\u001b[0m\u001b[1;33m\u001b[0m\u001b[1;33m\u001b[0m\u001b[0m\n\u001b[0m\u001b[0;32m    530\u001b[0m \u001b[1;33m\u001b[0m\u001b[0m\n\u001b[0;32m    531\u001b[0m         \u001b[1;32mreturn\u001b[0m \u001b[0mresp\u001b[0m\u001b[1;33m\u001b[0m\u001b[1;33m\u001b[0m\u001b[0m\n",
      "\u001b[1;32mC:\\IBI\\repos\\curbiq_modules\\curbmods\\lib\\site-packages\\requests\\sessions.py\u001b[0m in \u001b[0;36msend\u001b[1;34m(self, request, **kwargs)\u001b[0m\n\u001b[0;32m    643\u001b[0m \u001b[1;33m\u001b[0m\u001b[0m\n\u001b[0;32m    644\u001b[0m         \u001b[1;31m# Send the request\u001b[0m\u001b[1;33m\u001b[0m\u001b[1;33m\u001b[0m\u001b[1;33m\u001b[0m\u001b[0m\n\u001b[1;32m--> 645\u001b[1;33m         \u001b[0mr\u001b[0m \u001b[1;33m=\u001b[0m \u001b[0madapter\u001b[0m\u001b[1;33m.\u001b[0m\u001b[0msend\u001b[0m\u001b[1;33m(\u001b[0m\u001b[0mrequest\u001b[0m\u001b[1;33m,\u001b[0m \u001b[1;33m**\u001b[0m\u001b[0mkwargs\u001b[0m\u001b[1;33m)\u001b[0m\u001b[1;33m\u001b[0m\u001b[1;33m\u001b[0m\u001b[0m\n\u001b[0m\u001b[0;32m    646\u001b[0m \u001b[1;33m\u001b[0m\u001b[0m\n\u001b[0;32m    647\u001b[0m         \u001b[1;31m# Total elapsed time of the request (approximately)\u001b[0m\u001b[1;33m\u001b[0m\u001b[1;33m\u001b[0m\u001b[1;33m\u001b[0m\u001b[0m\n",
      "\u001b[1;32mC:\\IBI\\repos\\curbiq_modules\\curbmods\\lib\\site-packages\\requests\\adapters.py\u001b[0m in \u001b[0;36msend\u001b[1;34m(self, request, stream, timeout, verify, cert, proxies)\u001b[0m\n\u001b[0;32m    448\u001b[0m                     \u001b[0mdecode_content\u001b[0m\u001b[1;33m=\u001b[0m\u001b[1;32mFalse\u001b[0m\u001b[1;33m,\u001b[0m\u001b[1;33m\u001b[0m\u001b[1;33m\u001b[0m\u001b[0m\n\u001b[0;32m    449\u001b[0m                     \u001b[0mretries\u001b[0m\u001b[1;33m=\u001b[0m\u001b[0mself\u001b[0m\u001b[1;33m.\u001b[0m\u001b[0mmax_retries\u001b[0m\u001b[1;33m,\u001b[0m\u001b[1;33m\u001b[0m\u001b[1;33m\u001b[0m\u001b[0m\n\u001b[1;32m--> 450\u001b[1;33m                     \u001b[0mtimeout\u001b[0m\u001b[1;33m=\u001b[0m\u001b[0mtimeout\u001b[0m\u001b[1;33m\u001b[0m\u001b[1;33m\u001b[0m\u001b[0m\n\u001b[0m\u001b[0;32m    451\u001b[0m                 )\n\u001b[0;32m    452\u001b[0m \u001b[1;33m\u001b[0m\u001b[0m\n",
      "\u001b[1;32mC:\\IBI\\repos\\curbiq_modules\\curbmods\\lib\\site-packages\\urllib3\\connectionpool.py\u001b[0m in \u001b[0;36murlopen\u001b[1;34m(self, method, url, body, headers, retries, redirect, assert_same_host, timeout, pool_timeout, release_conn, chunked, body_pos, **response_kw)\u001b[0m\n\u001b[0;32m    708\u001b[0m                 \u001b[0mbody\u001b[0m\u001b[1;33m=\u001b[0m\u001b[0mbody\u001b[0m\u001b[1;33m,\u001b[0m\u001b[1;33m\u001b[0m\u001b[1;33m\u001b[0m\u001b[0m\n\u001b[0;32m    709\u001b[0m                 \u001b[0mheaders\u001b[0m\u001b[1;33m=\u001b[0m\u001b[0mheaders\u001b[0m\u001b[1;33m,\u001b[0m\u001b[1;33m\u001b[0m\u001b[1;33m\u001b[0m\u001b[0m\n\u001b[1;32m--> 710\u001b[1;33m                 \u001b[0mchunked\u001b[0m\u001b[1;33m=\u001b[0m\u001b[0mchunked\u001b[0m\u001b[1;33m,\u001b[0m\u001b[1;33m\u001b[0m\u001b[1;33m\u001b[0m\u001b[0m\n\u001b[0m\u001b[0;32m    711\u001b[0m             )\n\u001b[0;32m    712\u001b[0m \u001b[1;33m\u001b[0m\u001b[0m\n",
      "\u001b[1;32mC:\\IBI\\repos\\curbiq_modules\\curbmods\\lib\\site-packages\\urllib3\\connectionpool.py\u001b[0m in \u001b[0;36m_make_request\u001b[1;34m(self, conn, method, url, timeout, chunked, **httplib_request_kw)\u001b[0m\n\u001b[0;32m    447\u001b[0m                     \u001b[1;31m# Python 3 (including for exceptions like SystemExit).\u001b[0m\u001b[1;33m\u001b[0m\u001b[1;33m\u001b[0m\u001b[1;33m\u001b[0m\u001b[0m\n\u001b[0;32m    448\u001b[0m                     \u001b[1;31m# Otherwise it looks like a bug in the code.\u001b[0m\u001b[1;33m\u001b[0m\u001b[1;33m\u001b[0m\u001b[1;33m\u001b[0m\u001b[0m\n\u001b[1;32m--> 449\u001b[1;33m                     \u001b[0msix\u001b[0m\u001b[1;33m.\u001b[0m\u001b[0mraise_from\u001b[0m\u001b[1;33m(\u001b[0m\u001b[0me\u001b[0m\u001b[1;33m,\u001b[0m \u001b[1;32mNone\u001b[0m\u001b[1;33m)\u001b[0m\u001b[1;33m\u001b[0m\u001b[1;33m\u001b[0m\u001b[0m\n\u001b[0m\u001b[0;32m    450\u001b[0m         \u001b[1;32mexcept\u001b[0m \u001b[1;33m(\u001b[0m\u001b[0mSocketTimeout\u001b[0m\u001b[1;33m,\u001b[0m \u001b[0mBaseSSLError\u001b[0m\u001b[1;33m,\u001b[0m \u001b[0mSocketError\u001b[0m\u001b[1;33m)\u001b[0m \u001b[1;32mas\u001b[0m \u001b[0me\u001b[0m\u001b[1;33m:\u001b[0m\u001b[1;33m\u001b[0m\u001b[1;33m\u001b[0m\u001b[0m\n\u001b[0;32m    451\u001b[0m             \u001b[0mself\u001b[0m\u001b[1;33m.\u001b[0m\u001b[0m_raise_timeout\u001b[0m\u001b[1;33m(\u001b[0m\u001b[0merr\u001b[0m\u001b[1;33m=\u001b[0m\u001b[0me\u001b[0m\u001b[1;33m,\u001b[0m \u001b[0murl\u001b[0m\u001b[1;33m=\u001b[0m\u001b[0murl\u001b[0m\u001b[1;33m,\u001b[0m \u001b[0mtimeout_value\u001b[0m\u001b[1;33m=\u001b[0m\u001b[0mread_timeout\u001b[0m\u001b[1;33m)\u001b[0m\u001b[1;33m\u001b[0m\u001b[1;33m\u001b[0m\u001b[0m\n",
      "\u001b[1;32mC:\\IBI\\repos\\curbiq_modules\\curbmods\\lib\\site-packages\\urllib3\\packages\\six.py\u001b[0m in \u001b[0;36mraise_from\u001b[1;34m(value, from_value)\u001b[0m\n",
      "\u001b[1;32mC:\\IBI\\repos\\curbiq_modules\\curbmods\\lib\\site-packages\\urllib3\\connectionpool.py\u001b[0m in \u001b[0;36m_make_request\u001b[1;34m(self, conn, method, url, timeout, chunked, **httplib_request_kw)\u001b[0m\n\u001b[0;32m    442\u001b[0m                 \u001b[1;31m# Python 3\u001b[0m\u001b[1;33m\u001b[0m\u001b[1;33m\u001b[0m\u001b[1;33m\u001b[0m\u001b[0m\n\u001b[0;32m    443\u001b[0m                 \u001b[1;32mtry\u001b[0m\u001b[1;33m:\u001b[0m\u001b[1;33m\u001b[0m\u001b[1;33m\u001b[0m\u001b[0m\n\u001b[1;32m--> 444\u001b[1;33m                     \u001b[0mhttplib_response\u001b[0m \u001b[1;33m=\u001b[0m \u001b[0mconn\u001b[0m\u001b[1;33m.\u001b[0m\u001b[0mgetresponse\u001b[0m\u001b[1;33m(\u001b[0m\u001b[1;33m)\u001b[0m\u001b[1;33m\u001b[0m\u001b[1;33m\u001b[0m\u001b[0m\n\u001b[0m\u001b[0;32m    445\u001b[0m                 \u001b[1;32mexcept\u001b[0m \u001b[0mBaseException\u001b[0m \u001b[1;32mas\u001b[0m \u001b[0me\u001b[0m\u001b[1;33m:\u001b[0m\u001b[1;33m\u001b[0m\u001b[1;33m\u001b[0m\u001b[0m\n\u001b[0;32m    446\u001b[0m                     \u001b[1;31m# Remove the TypeError from the exception chain in\u001b[0m\u001b[1;33m\u001b[0m\u001b[1;33m\u001b[0m\u001b[1;33m\u001b[0m\u001b[0m\n",
      "\u001b[1;32mC:\\ibi\\Anaconda3\\lib\\http\\client.py\u001b[0m in \u001b[0;36mgetresponse\u001b[1;34m(self)\u001b[0m\n\u001b[0;32m   1367\u001b[0m         \u001b[1;32mtry\u001b[0m\u001b[1;33m:\u001b[0m\u001b[1;33m\u001b[0m\u001b[1;33m\u001b[0m\u001b[0m\n\u001b[0;32m   1368\u001b[0m             \u001b[1;32mtry\u001b[0m\u001b[1;33m:\u001b[0m\u001b[1;33m\u001b[0m\u001b[1;33m\u001b[0m\u001b[0m\n\u001b[1;32m-> 1369\u001b[1;33m                 \u001b[0mresponse\u001b[0m\u001b[1;33m.\u001b[0m\u001b[0mbegin\u001b[0m\u001b[1;33m(\u001b[0m\u001b[1;33m)\u001b[0m\u001b[1;33m\u001b[0m\u001b[1;33m\u001b[0m\u001b[0m\n\u001b[0m\u001b[0;32m   1370\u001b[0m             \u001b[1;32mexcept\u001b[0m \u001b[0mConnectionError\u001b[0m\u001b[1;33m:\u001b[0m\u001b[1;33m\u001b[0m\u001b[1;33m\u001b[0m\u001b[0m\n\u001b[0;32m   1371\u001b[0m                 \u001b[0mself\u001b[0m\u001b[1;33m.\u001b[0m\u001b[0mclose\u001b[0m\u001b[1;33m(\u001b[0m\u001b[1;33m)\u001b[0m\u001b[1;33m\u001b[0m\u001b[1;33m\u001b[0m\u001b[0m\n",
      "\u001b[1;32mC:\\ibi\\Anaconda3\\lib\\http\\client.py\u001b[0m in \u001b[0;36mbegin\u001b[1;34m(self)\u001b[0m\n\u001b[0;32m    308\u001b[0m         \u001b[1;31m# read until we get a non-100 response\u001b[0m\u001b[1;33m\u001b[0m\u001b[1;33m\u001b[0m\u001b[1;33m\u001b[0m\u001b[0m\n\u001b[0;32m    309\u001b[0m         \u001b[1;32mwhile\u001b[0m \u001b[1;32mTrue\u001b[0m\u001b[1;33m:\u001b[0m\u001b[1;33m\u001b[0m\u001b[1;33m\u001b[0m\u001b[0m\n\u001b[1;32m--> 310\u001b[1;33m             \u001b[0mversion\u001b[0m\u001b[1;33m,\u001b[0m \u001b[0mstatus\u001b[0m\u001b[1;33m,\u001b[0m \u001b[0mreason\u001b[0m \u001b[1;33m=\u001b[0m \u001b[0mself\u001b[0m\u001b[1;33m.\u001b[0m\u001b[0m_read_status\u001b[0m\u001b[1;33m(\u001b[0m\u001b[1;33m)\u001b[0m\u001b[1;33m\u001b[0m\u001b[1;33m\u001b[0m\u001b[0m\n\u001b[0m\u001b[0;32m    311\u001b[0m             \u001b[1;32mif\u001b[0m \u001b[0mstatus\u001b[0m \u001b[1;33m!=\u001b[0m \u001b[0mCONTINUE\u001b[0m\u001b[1;33m:\u001b[0m\u001b[1;33m\u001b[0m\u001b[1;33m\u001b[0m\u001b[0m\n\u001b[0;32m    312\u001b[0m                 \u001b[1;32mbreak\u001b[0m\u001b[1;33m\u001b[0m\u001b[1;33m\u001b[0m\u001b[0m\n",
      "\u001b[1;32mC:\\ibi\\Anaconda3\\lib\\http\\client.py\u001b[0m in \u001b[0;36m_read_status\u001b[1;34m(self)\u001b[0m\n\u001b[0;32m    269\u001b[0m \u001b[1;33m\u001b[0m\u001b[0m\n\u001b[0;32m    270\u001b[0m     \u001b[1;32mdef\u001b[0m \u001b[0m_read_status\u001b[0m\u001b[1;33m(\u001b[0m\u001b[0mself\u001b[0m\u001b[1;33m)\u001b[0m\u001b[1;33m:\u001b[0m\u001b[1;33m\u001b[0m\u001b[1;33m\u001b[0m\u001b[0m\n\u001b[1;32m--> 271\u001b[1;33m         \u001b[0mline\u001b[0m \u001b[1;33m=\u001b[0m \u001b[0mstr\u001b[0m\u001b[1;33m(\u001b[0m\u001b[0mself\u001b[0m\u001b[1;33m.\u001b[0m\u001b[0mfp\u001b[0m\u001b[1;33m.\u001b[0m\u001b[0mreadline\u001b[0m\u001b[1;33m(\u001b[0m\u001b[0m_MAXLINE\u001b[0m \u001b[1;33m+\u001b[0m \u001b[1;36m1\u001b[0m\u001b[1;33m)\u001b[0m\u001b[1;33m,\u001b[0m \u001b[1;34m\"iso-8859-1\"\u001b[0m\u001b[1;33m)\u001b[0m\u001b[1;33m\u001b[0m\u001b[1;33m\u001b[0m\u001b[0m\n\u001b[0m\u001b[0;32m    272\u001b[0m         \u001b[1;32mif\u001b[0m \u001b[0mlen\u001b[0m\u001b[1;33m(\u001b[0m\u001b[0mline\u001b[0m\u001b[1;33m)\u001b[0m \u001b[1;33m>\u001b[0m \u001b[0m_MAXLINE\u001b[0m\u001b[1;33m:\u001b[0m\u001b[1;33m\u001b[0m\u001b[1;33m\u001b[0m\u001b[0m\n\u001b[0;32m    273\u001b[0m             \u001b[1;32mraise\u001b[0m \u001b[0mLineTooLong\u001b[0m\u001b[1;33m(\u001b[0m\u001b[1;34m\"status line\"\u001b[0m\u001b[1;33m)\u001b[0m\u001b[1;33m\u001b[0m\u001b[1;33m\u001b[0m\u001b[0m\n",
      "\u001b[1;32mC:\\ibi\\Anaconda3\\lib\\socket.py\u001b[0m in \u001b[0;36mreadinto\u001b[1;34m(self, b)\u001b[0m\n\u001b[0;32m    587\u001b[0m         \u001b[1;32mwhile\u001b[0m \u001b[1;32mTrue\u001b[0m\u001b[1;33m:\u001b[0m\u001b[1;33m\u001b[0m\u001b[1;33m\u001b[0m\u001b[0m\n\u001b[0;32m    588\u001b[0m             \u001b[1;32mtry\u001b[0m\u001b[1;33m:\u001b[0m\u001b[1;33m\u001b[0m\u001b[1;33m\u001b[0m\u001b[0m\n\u001b[1;32m--> 589\u001b[1;33m                 \u001b[1;32mreturn\u001b[0m \u001b[0mself\u001b[0m\u001b[1;33m.\u001b[0m\u001b[0m_sock\u001b[0m\u001b[1;33m.\u001b[0m\u001b[0mrecv_into\u001b[0m\u001b[1;33m(\u001b[0m\u001b[0mb\u001b[0m\u001b[1;33m)\u001b[0m\u001b[1;33m\u001b[0m\u001b[1;33m\u001b[0m\u001b[0m\n\u001b[0m\u001b[0;32m    590\u001b[0m             \u001b[1;32mexcept\u001b[0m \u001b[0mtimeout\u001b[0m\u001b[1;33m:\u001b[0m\u001b[1;33m\u001b[0m\u001b[1;33m\u001b[0m\u001b[0m\n\u001b[0;32m    591\u001b[0m                 \u001b[0mself\u001b[0m\u001b[1;33m.\u001b[0m\u001b[0m_timeout_occurred\u001b[0m \u001b[1;33m=\u001b[0m \u001b[1;32mTrue\u001b[0m\u001b[1;33m\u001b[0m\u001b[1;33m\u001b[0m\u001b[0m\n",
      "\u001b[1;32mC:\\ibi\\Anaconda3\\lib\\ssl.py\u001b[0m in \u001b[0;36mrecv_into\u001b[1;34m(self, buffer, nbytes, flags)\u001b[0m\n\u001b[0;32m   1069\u001b[0m                   \u001b[1;34m\"non-zero flags not allowed in calls to recv_into() on %s\"\u001b[0m \u001b[1;33m%\u001b[0m\u001b[1;33m\u001b[0m\u001b[1;33m\u001b[0m\u001b[0m\n\u001b[0;32m   1070\u001b[0m                   self.__class__)\n\u001b[1;32m-> 1071\u001b[1;33m             \u001b[1;32mreturn\u001b[0m \u001b[0mself\u001b[0m\u001b[1;33m.\u001b[0m\u001b[0mread\u001b[0m\u001b[1;33m(\u001b[0m\u001b[0mnbytes\u001b[0m\u001b[1;33m,\u001b[0m \u001b[0mbuffer\u001b[0m\u001b[1;33m)\u001b[0m\u001b[1;33m\u001b[0m\u001b[1;33m\u001b[0m\u001b[0m\n\u001b[0m\u001b[0;32m   1072\u001b[0m         \u001b[1;32melse\u001b[0m\u001b[1;33m:\u001b[0m\u001b[1;33m\u001b[0m\u001b[1;33m\u001b[0m\u001b[0m\n\u001b[0;32m   1073\u001b[0m             \u001b[1;32mreturn\u001b[0m \u001b[0msuper\u001b[0m\u001b[1;33m(\u001b[0m\u001b[1;33m)\u001b[0m\u001b[1;33m.\u001b[0m\u001b[0mrecv_into\u001b[0m\u001b[1;33m(\u001b[0m\u001b[0mbuffer\u001b[0m\u001b[1;33m,\u001b[0m \u001b[0mnbytes\u001b[0m\u001b[1;33m,\u001b[0m \u001b[0mflags\u001b[0m\u001b[1;33m)\u001b[0m\u001b[1;33m\u001b[0m\u001b[1;33m\u001b[0m\u001b[0m\n",
      "\u001b[1;32mC:\\ibi\\Anaconda3\\lib\\ssl.py\u001b[0m in \u001b[0;36mread\u001b[1;34m(self, len, buffer)\u001b[0m\n\u001b[0;32m    927\u001b[0m         \u001b[1;32mtry\u001b[0m\u001b[1;33m:\u001b[0m\u001b[1;33m\u001b[0m\u001b[1;33m\u001b[0m\u001b[0m\n\u001b[0;32m    928\u001b[0m             \u001b[1;32mif\u001b[0m \u001b[0mbuffer\u001b[0m \u001b[1;32mis\u001b[0m \u001b[1;32mnot\u001b[0m \u001b[1;32mNone\u001b[0m\u001b[1;33m:\u001b[0m\u001b[1;33m\u001b[0m\u001b[1;33m\u001b[0m\u001b[0m\n\u001b[1;32m--> 929\u001b[1;33m                 \u001b[1;32mreturn\u001b[0m \u001b[0mself\u001b[0m\u001b[1;33m.\u001b[0m\u001b[0m_sslobj\u001b[0m\u001b[1;33m.\u001b[0m\u001b[0mread\u001b[0m\u001b[1;33m(\u001b[0m\u001b[0mlen\u001b[0m\u001b[1;33m,\u001b[0m \u001b[0mbuffer\u001b[0m\u001b[1;33m)\u001b[0m\u001b[1;33m\u001b[0m\u001b[1;33m\u001b[0m\u001b[0m\n\u001b[0m\u001b[0;32m    930\u001b[0m             \u001b[1;32melse\u001b[0m\u001b[1;33m:\u001b[0m\u001b[1;33m\u001b[0m\u001b[1;33m\u001b[0m\u001b[0m\n\u001b[0;32m    931\u001b[0m                 \u001b[1;32mreturn\u001b[0m \u001b[0mself\u001b[0m\u001b[1;33m.\u001b[0m\u001b[0m_sslobj\u001b[0m\u001b[1;33m.\u001b[0m\u001b[0mread\u001b[0m\u001b[1;33m(\u001b[0m\u001b[0mlen\u001b[0m\u001b[1;33m)\u001b[0m\u001b[1;33m\u001b[0m\u001b[1;33m\u001b[0m\u001b[0m\n",
      "\u001b[1;31mKeyboardInterrupt\u001b[0m: "
     ]
    }
   ],
   "source": [
    "import collections\n",
    "\n",
    "AGENCY_DIRECTORY = os.path.join(os.getcwd(),'Agencies',agency)\n",
    "stop_df = pd.read_csv(os.path.join(AGENCY_DIRECTORY,'stop_list.csv')) \n",
    "for stop_id in stop_df['stop_id'].to_list():\n",
    "    \n",
    "    stop_id = str(int(stop_id))\n",
    "\n",
    "    stop_url = 'https://retro.umoiq.com/service/publicXMLFeed?command=predictions&a={AGENCY}&stopId={STOP}'.format(AGENCY=agency,STOP=stop_id)\n",
    "    response = rq.get(stop_url)\n",
    "    resp_dict = xmltodict.parse(response.content)\n",
    "\n",
    "    next_arrival_resp = dict()\n",
    "    next_arrival_resp['agency'] = agency\n",
    "    next_arrival_resp['stop_id'] = stop_id\n",
    "\n",
    "    next_arrival_resp['routes'] = []\n",
    "\n",
    "    if type(resp_dict['body']['predictions']) != list:\n",
    "        routes = [resp_dict['body']['predictions']]\n",
    "    else:\n",
    "        routes = [route for route in resp_dict['body']['predictions']]\n",
    "\n",
    "    i = 0\n",
    "    for route in routes:\n",
    "        if 'direction' in route:\n",
    "            direction = route['direction']\n",
    "            if type(direction)==list:\n",
    "                for subdir in direction:\n",
    "                    next_arrival_resp['routes'].extend([dict()])\n",
    "                    next_arrival_resp['routes'][i]['route_id'] = subdir['@title'].split(' - ')[1].split(' ')[0]\n",
    "                    next_arrival_resp['routes'][i]['headsign'] = subdir['@title']\n",
    "                    if type(subdir['prediction'])==list:\n",
    "                        next_arrival_resp['routes'][i]['arrival_pred_mins'] = [int(pred['@minutes']) for pred in subdir['prediction']]\n",
    "                    else:\n",
    "                        next_arrival_resp['routes'][i]['arrival_pred_mins'] = [int(subdir['prediction']['@minutes'])]\n",
    "                    i+=1\n",
    "            else:\n",
    "                next_arrival_resp['routes'].extend([dict()])\n",
    "                next_arrival_resp['routes'][i]['route_id'] = route['@routeTag']\n",
    "                next_arrival_resp['routes'][i]['headsign'] = direction['@title']\n",
    "                if type(direction['prediction'])==list:\n",
    "                    next_arrival_resp['routes'][i]['arrival_pred_mins'] = [int(pred['@minutes']) for pred in direction['prediction']]\n",
    "                else:\n",
    "                    next_arrival_resp['routes'][i]['arrival_pred_mins'] = [int(direction['prediction']['@minutes'])]\n",
    "                i+=1\n",
    "        else:\n",
    "            next_arrival_resp['routes'].extend([dict()])\n",
    "            next_arrival_resp['routes'][i]['route_id'] = route['@routeTag']\n",
    "            next_arrival_resp['routes'][i]['headsign'] = route['@dirTitleBecauseNoPredictions']\n",
    "            next_arrival_resp['routes'][i]['arrival_pred_mins'] = []\n",
    "            i+=1\n",
    "        \n"
   ]
  },
  {
   "cell_type": "code",
   "execution_count": 66,
   "metadata": {},
   "outputs": [
    {
     "data": {
      "text/plain": [
       "[OrderedDict([('@title', 'South - 66b Prince Edward towards Lakeshore'),\n",
       "              ('prediction',\n",
       "               [OrderedDict([('@epochTime', '1649693324118'),\n",
       "                             ('@seconds', '257'),\n",
       "                             ('@minutes', '4'),\n",
       "                             ('@isDeparture', 'false'),\n",
       "                             ('@affectedByLayover', 'true'),\n",
       "                             ('@branch', '66B'),\n",
       "                             ('@dirTag', '66_0_66B'),\n",
       "                             ('@vehicle', '8465'),\n",
       "                             ('@block', '66_4_40'),\n",
       "                             ('@tripTag', '43713915')]),\n",
       "                OrderedDict([('@epochTime', '1649694800885'),\n",
       "                             ('@seconds', '1734'),\n",
       "                             ('@minutes', '28'),\n",
       "                             ('@isDeparture', 'false'),\n",
       "                             ('@affectedByLayover', 'true'),\n",
       "                             ('@branch', '66B'),\n",
       "                             ('@dirTag', '66_0_66B'),\n",
       "                             ('@vehicle', '3351'),\n",
       "                             ('@block', '66_5_50'),\n",
       "                             ('@tripTag', '43713914')])])]),\n",
       " OrderedDict([('@title', 'South - 66a Prince Edward towards Humber Loop'),\n",
       "              ('prediction',\n",
       "               [OrderedDict([('@epochTime', '1649694596831'),\n",
       "                             ('@seconds', '1530'),\n",
       "                             ('@minutes', '25'),\n",
       "                             ('@isDeparture', 'false'),\n",
       "                             ('@affectedByLayover', 'true'),\n",
       "                             ('@branch', '66A'),\n",
       "                             ('@dirTag', '66_0_66A'),\n",
       "                             ('@vehicle', '3335'),\n",
       "                             ('@block', '66_1_10'),\n",
       "                             ('@tripTag', '43713982')]),\n",
       "                OrderedDict([('@epochTime', '1649695749322'),\n",
       "                             ('@seconds', '2683'),\n",
       "                             ('@minutes', '44'),\n",
       "                             ('@isDeparture', 'false'),\n",
       "                             ('@affectedByLayover', 'true'),\n",
       "                             ('@branch', '66A'),\n",
       "                             ('@dirTag', '66_0_66A'),\n",
       "                             ('@vehicle', '8465'),\n",
       "                             ('@block', '66_4_40'),\n",
       "                             ('@tripTag', '43713981')])])])]"
      ]
     },
     "execution_count": 66,
     "metadata": {},
     "output_type": "execute_result"
    }
   ],
   "source": [
    "direction"
   ]
  },
  {
   "cell_type": "code",
   "execution_count": 52,
   "metadata": {},
   "outputs": [
    {
     "data": {
      "text/plain": [
       "'12c'"
      ]
     },
     "execution_count": 52,
     "metadata": {},
     "output_type": "execute_result"
    }
   ],
   "source": [
    "next_arrival_resp['routes'][1]['headsign'].split(' - ')[1].split(' ')[0]"
   ]
  },
  {
   "cell_type": "code",
   "execution_count": null,
   "metadata": {},
   "outputs": [],
   "source": [
    "def etree_to_dict(t):\n",
    "    d = {t.tag : map(etree_to_dict, t.iterchildren())}\n",
    "    d.update(('@' + k, v) for k, v in t.attrib.iteritems())\n",
    "    d['text'] = t.text\n",
    "    return d\n",
    "\n",
    "treedict = etree_to_dict(tree)"
   ]
  },
  {
   "cell_type": "code",
   "execution_count": null,
   "metadata": {},
   "outputs": [],
   "source": []
  }
 ],
 "metadata": {
  "kernelspec": {
   "display_name": "curbmods",
   "language": "python",
   "name": "curbmods"
  },
  "language_info": {
   "codemirror_mode": {
    "name": "ipython",
    "version": 3
   },
   "file_extension": ".py",
   "mimetype": "text/x-python",
   "name": "python",
   "nbconvert_exporter": "python",
   "pygments_lexer": "ipython3",
   "version": "3.7.9"
  }
 },
 "nbformat": 4,
 "nbformat_minor": 4
}
